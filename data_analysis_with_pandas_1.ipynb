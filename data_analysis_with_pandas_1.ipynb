{
  "nbformat": 4,
  "nbformat_minor": 0,
  "metadata": {
    "colab": {
      "name": "data analysis with pandas #1.ipynb",
      "version": "0.3.2",
      "provenance": [],
      "include_colab_link": true
    },
    "kernelspec": {
      "name": "python3",
      "display_name": "Python 3"
    }
  },
  "cells": [
    {
      "cell_type": "markdown",
      "metadata": {
        "id": "view-in-github",
        "colab_type": "text"
      },
      "source": [
        "<a href=\"https://colab.research.google.com/github/aneesahmed/python-q2-data-data-preprocessing/blob/master/data_analysis_with_pandas_1.ipynb\" target=\"_parent\"><img src=\"https://colab.research.google.com/assets/colab-badge.svg\" alt=\"Open In Colab\"/></a>"
      ]
    },
    {
      "cell_type": "markdown",
      "metadata": {
        "id": "d9UmvY3jy2Ep",
        "colab_type": "text"
      },
      "source": [
        "# Installing Pandas\n",
        "**if you have installed anaconda, pandas is already part of it.\n",
        "for other python installation use \"pip install pandas\" to install latest version**"
      ]
    },
    {
      "cell_type": "markdown",
      "metadata": {
        "id": "BmJuCz5g0gC0",
        "colab_type": "text"
      },
      "source": [
        "# importing Pandas\n",
        "**import pandas as pd**\n"
      ]
    }
  ]
}